{
  "nbformat": 4,
  "nbformat_minor": 0,
  "metadata": {
    "colab": {
      "name": "sarcasm detector.ipynb",
      "provenance": [],
      "authorship_tag": "ABX9TyMXIN6uEiednne7bznfhxhJ",
      "include_colab_link": true
    },
    "kernelspec": {
      "name": "python3",
      "display_name": "Python 3"
    }
  },
  "cells": [
    {
      "cell_type": "markdown",
      "metadata": {
        "id": "view-in-github",
        "colab_type": "text"
      },
      "source": [
        "<a href=\"https://colab.research.google.com/github/sid0312/10DaysMLChallenge/blob/master/sarcasm_detector.ipynb\" target=\"_parent\"><img src=\"https://colab.research.google.com/assets/colab-badge.svg\" alt=\"Open In Colab\"/></a>"
      ]
    },
    {
      "cell_type": "code",
      "metadata": {
        "id": "_ZzBmIDm2Cq0",
        "colab_type": "code",
        "outputId": "f3529142-f1c6-4589-c4e9-afbf97088130",
        "colab": {
          "base_uri": "https://localhost:8080/",
          "height": 204
        }
      },
      "source": [
        "!wget --no-check-certificate \\\n",
        "  https://storage.googleapis.com/laurencemoroney-blog.appspot.com/sarcasm.json \\\n",
        "  -O /tmp/sarcasm.json"
      ],
      "execution_count": 1,
      "outputs": [
        {
          "output_type": "stream",
          "text": [
            "--2020-04-03 18:49:46--  https://storage.googleapis.com/laurencemoroney-blog.appspot.com/sarcasm.json\n",
            "Resolving storage.googleapis.com (storage.googleapis.com)... 74.125.124.128, 2607:f8b0:4001:c05::80\n",
            "Connecting to storage.googleapis.com (storage.googleapis.com)|74.125.124.128|:443... connected.\n",
            "HTTP request sent, awaiting response... 200 OK\n",
            "Length: 5643545 (5.4M) [application/json]\n",
            "Saving to: ‘/tmp/sarcasm.json’\n",
            "\n",
            "\r/tmp/sarcasm.json     0%[                    ]       0  --.-KB/s               \r/tmp/sarcasm.json   100%[===================>]   5.38M  --.-KB/s    in 0.04s   \n",
            "\n",
            "2020-04-03 18:49:47 (120 MB/s) - ‘/tmp/sarcasm.json’ saved [5643545/5643545]\n",
            "\n"
          ],
          "name": "stdout"
        }
      ]
    },
    {
      "cell_type": "code",
      "metadata": {
        "id": "RvzYKxQZ3sIN",
        "colab_type": "code",
        "colab": {}
      },
      "source": [
        "import json\n",
        "\n",
        "with open('/tmp/sarcasm.json','r') as f:\n",
        "  datastore = json.load(f)\n",
        "\n",
        "sentences = []\n",
        "labels = []\n",
        "urls = []\n",
        "\n",
        "for item in datastore:\n",
        "  sentences.append(item['headline'])\n",
        "  labels.append(item['is_sarcastic'])\n",
        "  urls.append(item['article_link'])\n"
      ],
      "execution_count": 0,
      "outputs": []
    },
    {
      "cell_type": "code",
      "metadata": {
        "id": "prYyUf6k4TOL",
        "colab_type": "code",
        "colab": {}
      },
      "source": [
        "from tensorflow.keras.preprocessing.text import Tokenizer\n",
        "from tensorflow.keras.preprocessing.sequence import pad_sequences\n"
      ],
      "execution_count": 0,
      "outputs": []
    },
    {
      "cell_type": "code",
      "metadata": {
        "id": "nLz9J6L6QBlH",
        "colab_type": "code",
        "colab": {}
      },
      "source": [
        "vocab_size = 1000\n",
        "embedding_dim = 16\n",
        "max_length = 16\n",
        "trunc_type = 'post'\n",
        "padding_type = 'post'\n",
        "oov_tok = '<OOV'\n",
        "training_size = 20000"
      ],
      "execution_count": 0,
      "outputs": []
    },
    {
      "cell_type": "code",
      "metadata": {
        "id": "jopNUfqtRBSC",
        "colab_type": "code",
        "colab": {}
      },
      "source": [
        "training_sentences = sentences[:training_size]\n",
        "training_labels = labels[:training_size]\n",
        "testing_sentences = sentences[training_size:]\n",
        "testing_label = labels[training_size:]"
      ],
      "execution_count": 0,
      "outputs": []
    },
    {
      "cell_type": "code",
      "metadata": {
        "id": "zT_673jV4ox_",
        "colab_type": "code",
        "colab": {}
      },
      "source": [
        "tokenizer = Tokenizer(num_words=vocab_size,oov_token=oov_tok)\n",
        "tokenizer.fit_on_texts(training_sentences)\n",
        "word_index = tokenizer.word_index\n",
        "training_sequences = tokenizer.texts_to_sequences(training_sentences)\n",
        "training_padded = pad_sequences(training_sequences,maxlen=max_length,padding=padding_type,truncating=trunc_type)"
      ],
      "execution_count": 0,
      "outputs": []
    },
    {
      "cell_type": "code",
      "metadata": {
        "id": "kKK_EiLV5C-B",
        "colab_type": "code",
        "colab": {}
      },
      "source": [
        "testing_sequences = tokenizer.texts_to_sequences(testing_sentences)\n",
        "testing_padded = pad_sequences(testing_sequences,maxlen=max_length,padding=padding_type,truncating=trunc_type)"
      ],
      "execution_count": 0,
      "outputs": []
    },
    {
      "cell_type": "code",
      "metadata": {
        "id": "jrRK9fVD5Ufv",
        "colab_type": "code",
        "colab": {}
      },
      "source": [
        "import tensorflow as tf"
      ],
      "execution_count": 0,
      "outputs": []
    },
    {
      "cell_type": "code",
      "metadata": {
        "id": "FN29Pcm95cWt",
        "colab_type": "code",
        "colab": {}
      },
      "source": [
        "from tensorflow import keras"
      ],
      "execution_count": 0,
      "outputs": []
    },
    {
      "cell_type": "code",
      "metadata": {
        "id": "w_YtkI18Sp3d",
        "colab_type": "code",
        "colab": {}
      },
      "source": [
        "model = tf.keras.Sequential([\n",
        "  tf.keras.layers.Embedding(vocab_size,embedding_dim, input_length = max_length),\n",
        "  tf.keras.layers.GlobalAveragePooling1D(),\n",
        "  tf.keras.layers.Dense(24,activation='relu'),\n",
        "  tf.keras.layers.Dense(1,activation='sigmoid')\n",
        "])"
      ],
      "execution_count": 0,
      "outputs": []
    },
    {
      "cell_type": "code",
      "metadata": {
        "id": "mq86eNJOTSxc",
        "colab_type": "code",
        "colab": {
          "base_uri": "https://localhost:8080/",
          "height": 289
        },
        "outputId": "3beb9c3b-d2d1-4936-aaf3-b46f431e9450"
      },
      "source": [
        "model.summary()"
      ],
      "execution_count": 11,
      "outputs": [
        {
          "output_type": "stream",
          "text": [
            "Model: \"sequential\"\n",
            "_________________________________________________________________\n",
            "Layer (type)                 Output Shape              Param #   \n",
            "=================================================================\n",
            "embedding (Embedding)        (None, 16, 16)            16000     \n",
            "_________________________________________________________________\n",
            "global_average_pooling1d (Gl (None, 16)                0         \n",
            "_________________________________________________________________\n",
            "dense (Dense)                (None, 24)                408       \n",
            "_________________________________________________________________\n",
            "dense_1 (Dense)              (None, 1)                 25        \n",
            "=================================================================\n",
            "Total params: 16,433\n",
            "Trainable params: 16,433\n",
            "Non-trainable params: 0\n",
            "_________________________________________________________________\n"
          ],
          "name": "stdout"
        }
      ]
    },
    {
      "cell_type": "code",
      "metadata": {
        "id": "fwR0galZTrGc",
        "colab_type": "code",
        "colab": {}
      },
      "source": [
        "model.compile(loss='binary_crossentropy',optimizer='adam',metrics=['accuracy'])"
      ],
      "execution_count": 0,
      "outputs": []
    },
    {
      "cell_type": "code",
      "metadata": {
        "id": "1xOo9o6qT4LA",
        "colab_type": "code",
        "colab": {
          "base_uri": "https://localhost:8080/",
          "height": 1000
        },
        "outputId": "9a8e3b37-46b9-4cee-fba4-bde9fca85d26"
      },
      "source": [
        "n_epochs = 30\n",
        "import numpy as np\n",
        "training_labels = np.array(training_labels)\n",
        "testing_labels = np.array(testing_label)\n",
        "history = model.fit(training_padded,training_labels,epochs=n_epochs,validation_data=(testing_padded,testing_labels),verbose=1)"
      ],
      "execution_count": 13,
      "outputs": [
        {
          "output_type": "stream",
          "text": [
            "Epoch 1/30\n",
            "625/625 [==============================] - 1s 2ms/step - loss: 0.5225 - accuracy: 0.7353 - val_loss: 0.4120 - val_accuracy: 0.8125\n",
            "Epoch 2/30\n",
            "625/625 [==============================] - 1s 2ms/step - loss: 0.3793 - accuracy: 0.8281 - val_loss: 0.3989 - val_accuracy: 0.8141\n",
            "Epoch 3/30\n",
            "625/625 [==============================] - 1s 2ms/step - loss: 0.3637 - accuracy: 0.8350 - val_loss: 0.4010 - val_accuracy: 0.8146\n",
            "Epoch 4/30\n",
            "625/625 [==============================] - 1s 2ms/step - loss: 0.3588 - accuracy: 0.8356 - val_loss: 0.4038 - val_accuracy: 0.8103\n",
            "Epoch 5/30\n",
            "625/625 [==============================] - 1s 2ms/step - loss: 0.3570 - accuracy: 0.8375 - val_loss: 0.4043 - val_accuracy: 0.8138\n",
            "Epoch 6/30\n",
            "625/625 [==============================] - 1s 2ms/step - loss: 0.3544 - accuracy: 0.8383 - val_loss: 0.4048 - val_accuracy: 0.8144\n",
            "Epoch 7/30\n",
            "625/625 [==============================] - 1s 2ms/step - loss: 0.3534 - accuracy: 0.8389 - val_loss: 0.4058 - val_accuracy: 0.8132\n",
            "Epoch 8/30\n",
            "625/625 [==============================] - 1s 2ms/step - loss: 0.3530 - accuracy: 0.8406 - val_loss: 0.4102 - val_accuracy: 0.8104\n",
            "Epoch 9/30\n",
            "625/625 [==============================] - 1s 2ms/step - loss: 0.3516 - accuracy: 0.8395 - val_loss: 0.4090 - val_accuracy: 0.8111\n",
            "Epoch 10/30\n",
            "625/625 [==============================] - 1s 2ms/step - loss: 0.3512 - accuracy: 0.8400 - val_loss: 0.4138 - val_accuracy: 0.8114\n",
            "Epoch 11/30\n",
            "625/625 [==============================] - 1s 2ms/step - loss: 0.3503 - accuracy: 0.8403 - val_loss: 0.4074 - val_accuracy: 0.8083\n",
            "Epoch 12/30\n",
            "625/625 [==============================] - 1s 2ms/step - loss: 0.3491 - accuracy: 0.8421 - val_loss: 0.4036 - val_accuracy: 0.8149\n",
            "Epoch 13/30\n",
            "625/625 [==============================] - 1s 2ms/step - loss: 0.3469 - accuracy: 0.8410 - val_loss: 0.4035 - val_accuracy: 0.8156\n",
            "Epoch 14/30\n",
            "625/625 [==============================] - 1s 2ms/step - loss: 0.3451 - accuracy: 0.8429 - val_loss: 0.4022 - val_accuracy: 0.8113\n",
            "Epoch 15/30\n",
            "625/625 [==============================] - 1s 2ms/step - loss: 0.3426 - accuracy: 0.8439 - val_loss: 0.3996 - val_accuracy: 0.8153\n",
            "Epoch 16/30\n",
            "625/625 [==============================] - 1s 2ms/step - loss: 0.3392 - accuracy: 0.8450 - val_loss: 0.4054 - val_accuracy: 0.8091\n",
            "Epoch 17/30\n",
            "625/625 [==============================] - 1s 2ms/step - loss: 0.3364 - accuracy: 0.8480 - val_loss: 0.3970 - val_accuracy: 0.8183\n",
            "Epoch 18/30\n",
            "625/625 [==============================] - 1s 2ms/step - loss: 0.3343 - accuracy: 0.8497 - val_loss: 0.3963 - val_accuracy: 0.8189\n",
            "Epoch 19/30\n",
            "625/625 [==============================] - 1s 2ms/step - loss: 0.3318 - accuracy: 0.8500 - val_loss: 0.3989 - val_accuracy: 0.8176\n",
            "Epoch 20/30\n",
            "625/625 [==============================] - 1s 2ms/step - loss: 0.3293 - accuracy: 0.8514 - val_loss: 0.3943 - val_accuracy: 0.8222\n",
            "Epoch 21/30\n",
            "625/625 [==============================] - 1s 2ms/step - loss: 0.3267 - accuracy: 0.8530 - val_loss: 0.3981 - val_accuracy: 0.8225\n",
            "Epoch 22/30\n",
            "625/625 [==============================] - 1s 2ms/step - loss: 0.3243 - accuracy: 0.8552 - val_loss: 0.3938 - val_accuracy: 0.8225\n",
            "Epoch 23/30\n",
            "625/625 [==============================] - 1s 2ms/step - loss: 0.3225 - accuracy: 0.8559 - val_loss: 0.3947 - val_accuracy: 0.8223\n",
            "Epoch 24/30\n",
            "625/625 [==============================] - 1s 2ms/step - loss: 0.3203 - accuracy: 0.8570 - val_loss: 0.3945 - val_accuracy: 0.8190\n",
            "Epoch 25/30\n",
            "625/625 [==============================] - 1s 2ms/step - loss: 0.3185 - accuracy: 0.8570 - val_loss: 0.3977 - val_accuracy: 0.8232\n",
            "Epoch 26/30\n",
            "625/625 [==============================] - 1s 2ms/step - loss: 0.3157 - accuracy: 0.8583 - val_loss: 0.3964 - val_accuracy: 0.8204\n",
            "Epoch 27/30\n",
            "625/625 [==============================] - 1s 2ms/step - loss: 0.3139 - accuracy: 0.8616 - val_loss: 0.4015 - val_accuracy: 0.8179\n",
            "Epoch 28/30\n",
            "625/625 [==============================] - 1s 2ms/step - loss: 0.3124 - accuracy: 0.8616 - val_loss: 0.4014 - val_accuracy: 0.8219\n",
            "Epoch 29/30\n",
            "625/625 [==============================] - 1s 2ms/step - loss: 0.3106 - accuracy: 0.8629 - val_loss: 0.4019 - val_accuracy: 0.8190\n",
            "Epoch 30/30\n",
            "625/625 [==============================] - 1s 2ms/step - loss: 0.3094 - accuracy: 0.8636 - val_loss: 0.4019 - val_accuracy: 0.8196\n"
          ],
          "name": "stdout"
        }
      ]
    },
    {
      "cell_type": "code",
      "metadata": {
        "id": "fGuQz9nEUdSH",
        "colab_type": "code",
        "colab": {}
      },
      "source": [
        "import matplotlib.pyplot as plt\n",
        "\n",
        "def plotter(history,string):\n",
        "  plt.plot(history.history[string])\n",
        "  plt.plot(history.history['val_'+string])\n",
        "  plt.xlabel(\"Epochs\")\n",
        "  plt.ylabel(string)\n",
        "  plt.legend([string,'val_'+string])\n",
        "  plt.show()"
      ],
      "execution_count": 0,
      "outputs": []
    },
    {
      "cell_type": "code",
      "metadata": {
        "id": "x4VyMtXjXBeG",
        "colab_type": "code",
        "colab": {
          "base_uri": "https://localhost:8080/",
          "height": 541
        },
        "outputId": "ccf63829-2577-46c4-f0b7-d66e08f560fb"
      },
      "source": [
        "plotter(history,'loss')\n",
        "plotter(history,'accuracy')"
      ],
      "execution_count": 15,
      "outputs": [
        {
          "output_type": "display_data",
          "data": {
            "image/png": "[encoded data removed]",
            "text/plain": [
              "<Figure size 432x288 with 1 Axes>"
            ]
          },
          "metadata": {
            "tags": []
          }
        },
        {
          "output_type": "display_data",
          "data": {
            "image/png": "[encoded data removed]",
            "text/plain": [
              "<Figure size 432x288 with 1 Axes>"
            ]
          },
          "metadata": {
            "tags": []
          }
        }
      ]
    }
  ]
}