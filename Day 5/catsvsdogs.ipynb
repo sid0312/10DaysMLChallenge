{
  "nbformat": 4,
  "nbformat_minor": 0,
  "metadata": {
    "colab": {
      "name": "catsvsdogs.ipynb",
      "provenance": [],
      "authorship_tag": "ABX9TyOvBurztiX6aWoPDbea5bEE",
      "include_colab_link": true
    },
    "kernelspec": {
      "name": "python3",
      "display_name": "Python 3"
    },
    "accelerator": "GPU"
  },
  "cells": [
    {
      "cell_type": "markdown",
      "metadata": {
        "id": "view-in-github",
        "colab_type": "text"
      },
      "source": [
        "<a href=\"https://colab.research.google.com/github/sid0312/10DaysMLChallenge/blob/master/catsvsdogs.ipynb\" target=\"_parent\"><img src=\"https://colab.research.google.com/assets/colab-badge.svg\" alt=\"Open In Colab\"/></a>"
      ]
    },
    {
      "cell_type": "code",
      "metadata": {
        "id": "NZ2qY-19AjWa",
        "colab_type": "code",
        "colab": {
          "base_uri": "https://localhost:8080/",
          "height": 202
        },
        "outputId": "5dee34bc-a2f2-4621-e65b-02959159362d"
      },
      "source": [
        "!wget --no-check-certificate \\\n",
        "    https://storage.googleapis.com/mledu-datasets/cats_and_dogs_filtered.zip \\\n",
        "    -O /tmp/cats_and_dogs_filtered.zip\n",
        "  \n",
        "import os\n",
        "import zipfile\n",
        "\n",
        "try:\n",
        "  %tensorflow_version 1.x\n",
        "except:\n",
        "  pass\n",
        "import tensorflow as tf\n",
        "from tensorflow.keras.optimizers import RMSprop,SGD\n",
        "from tensorflow.keras.preprocessing.image import ImageDataGenerator"
      ],
      "execution_count": 1,
      "outputs": [
        {
          "output_type": "stream",
          "text": [
            "--2020-03-27 15:16:39--  https://storage.googleapis.com/mledu-datasets/cats_and_dogs_filtered.zip\n",
            "Resolving storage.googleapis.com (storage.googleapis.com)... 173.194.217.128, 2607:f8b0:400c:c07::80\n",
            "Connecting to storage.googleapis.com (storage.googleapis.com)|173.194.217.128|:443... connected.\n",
            "HTTP request sent, awaiting response... 200 OK\n",
            "Length: 68606236 (65M) [application/zip]\n",
            "Saving to: ‘/tmp/cats_and_dogs_filtered.zip’\n",
            "\n",
            "\r          /tmp/cats   0%[                    ]       0  --.-KB/s               \r         /tmp/cats_  12%[=>                  ]   8.01M  32.1MB/s               \r        /tmp/cats_a  86%[================>   ]  56.87M   127MB/s               \r/tmp/cats_and_dogs_ 100%[===================>]  65.43M   137MB/s    in 0.5s    \n",
            "\n",
            "2020-03-27 15:16:40 (137 MB/s) - ‘/tmp/cats_and_dogs_filtered.zip’ saved [68606236/68606236]\n",
            "\n"
          ],
          "name": "stdout"
        }
      ]
    },
    {
      "cell_type": "code",
      "metadata": {
        "id": "rZzCNkkdBV-6",
        "colab_type": "code",
        "colab": {}
      },
      "source": [
        "local_zip = '/tmp/cats_and_dogs_filtered.zip'\n",
        "zip_ref = zipfile.ZipFile(local_zip, 'r')\n",
        "zip_ref.extractall('/tmp')\n",
        "zip_ref.close()\n",
        "\n",
        "base_dir = '/tmp/cats_and_dogs_filtered'\n",
        "train_dir = os.path.join(base_dir, 'train')\n",
        "validation_dir = os.path.join(base_dir, 'validation')"
      ],
      "execution_count": 0,
      "outputs": []
    },
    {
      "cell_type": "code",
      "metadata": {
        "id": "aXYIdbh_BcpK",
        "colab_type": "code",
        "colab": {
          "base_uri": "https://localhost:8080/",
          "height": 34
        },
        "outputId": "b1320352-0189-4ba5-de19-2bdd2b508da2"
      },
      "source": [
        "from keras.models import Sequential\n",
        "from keras.layers import Conv2D,MaxPooling2D,Dropout,Dense,Flatten"
      ],
      "execution_count": 3,
      "outputs": [
        {
          "output_type": "stream",
          "text": [
            "Using TensorFlow backend.\n"
          ],
          "name": "stderr"
        }
      ]
    },
    {
      "cell_type": "code",
      "metadata": {
        "id": "iB46nQIfCIlV",
        "colab_type": "code",
        "colab": {
          "base_uri": "https://localhost:8080/",
          "height": 171
        },
        "outputId": "948d2694-e303-40cc-ed93-03075294712b"
      },
      "source": [
        "model = Sequential()\n",
        "model.add(Conv2D(64,(3,3),input_shape=(150,150,3),activation='relu'))\n",
        "model.add(MaxPooling2D(pool_size=(2,2)))\n",
        "\n",
        "model.add(Conv2D(64,(3,3),activation='relu',padding='same'))\n",
        "model.add(MaxPooling2D(pool_size=(2,2)))\n",
        "\n",
        "model.add(Conv2D(128,(3,3),activation='relu',padding='same'))\n",
        "model.add(MaxPooling2D(pool_size=(2,2)))\n",
        "\n",
        "model.add(Conv2D(128,(3,3),activation='relu',padding='same'))\n",
        "model.add(MaxPooling2D(pool_size=(2,2)))\n",
        "\n",
        "model.add(Conv2D(256,(3,3),activation='relu',padding='same'))\n",
        "model.add(MaxPooling2D(pool_size=(2,2)))\n",
        "\n",
        "\n",
        "model.add(Conv2D(256,(3,3),activation='relu',padding='same'))\n",
        "model.add(MaxPooling2D(pool_size=(2,2)))\n",
        "model.add(Flatten())\n",
        "\n",
        "model.add(Dense(128,activation='relu'))\n",
        "model.add(Dense(128,activation='relu'))\n",
        "model.add(Dense(1,activation='sigmoid'))\n"
      ],
      "execution_count": 4,
      "outputs": [
        {
          "output_type": "stream",
          "text": [
            "WARNING:tensorflow:From /usr/local/lib/python3.6/dist-packages/keras/backend/tensorflow_backend.py:66: The name tf.get_default_graph is deprecated. Please use tf.compat.v1.get_default_graph instead.\n",
            "\n",
            "WARNING:tensorflow:From /usr/local/lib/python3.6/dist-packages/keras/backend/tensorflow_backend.py:541: The name tf.placeholder is deprecated. Please use tf.compat.v1.placeholder instead.\n",
            "\n",
            "WARNING:tensorflow:From /usr/local/lib/python3.6/dist-packages/keras/backend/tensorflow_backend.py:4432: The name tf.random_uniform is deprecated. Please use tf.random.uniform instead.\n",
            "\n",
            "WARNING:tensorflow:From /usr/local/lib/python3.6/dist-packages/keras/backend/tensorflow_backend.py:4267: The name tf.nn.max_pool is deprecated. Please use tf.nn.max_pool2d instead.\n",
            "\n"
          ],
          "name": "stdout"
        }
      ]
    },
    {
      "cell_type": "code",
      "metadata": {
        "id": "GsbwvImiD5zh",
        "colab_type": "code",
        "colab": {
          "base_uri": "https://localhost:8080/",
          "height": 689
        },
        "outputId": "4c5bf5d8-aa20-4818-a9cd-d25352a015a7"
      },
      "source": [
        "model.summary()"
      ],
      "execution_count": 5,
      "outputs": [
        {
          "output_type": "stream",
          "text": [
            "Model: \"sequential_1\"\n",
            "_________________________________________________________________\n",
            "Layer (type)                 Output Shape              Param #   \n",
            "=================================================================\n",
            "conv2d_1 (Conv2D)            (None, 148, 148, 64)      1792      \n",
            "_________________________________________________________________\n",
            "max_pooling2d_1 (MaxPooling2 (None, 74, 74, 64)        0         \n",
            "_________________________________________________________________\n",
            "conv2d_2 (Conv2D)            (None, 74, 74, 64)        36928     \n",
            "_________________________________________________________________\n",
            "max_pooling2d_2 (MaxPooling2 (None, 37, 37, 64)        0         \n",
            "_________________________________________________________________\n",
            "conv2d_3 (Conv2D)            (None, 37, 37, 128)       73856     \n",
            "_________________________________________________________________\n",
            "max_pooling2d_3 (MaxPooling2 (None, 18, 18, 128)       0         \n",
            "_________________________________________________________________\n",
            "conv2d_4 (Conv2D)            (None, 18, 18, 128)       147584    \n",
            "_________________________________________________________________\n",
            "max_pooling2d_4 (MaxPooling2 (None, 9, 9, 128)         0         \n",
            "_________________________________________________________________\n",
            "conv2d_5 (Conv2D)            (None, 9, 9, 256)         295168    \n",
            "_________________________________________________________________\n",
            "max_pooling2d_5 (MaxPooling2 (None, 4, 4, 256)         0         \n",
            "_________________________________________________________________\n",
            "conv2d_6 (Conv2D)            (None, 4, 4, 256)         590080    \n",
            "_________________________________________________________________\n",
            "max_pooling2d_6 (MaxPooling2 (None, 2, 2, 256)         0         \n",
            "_________________________________________________________________\n",
            "flatten_1 (Flatten)          (None, 1024)              0         \n",
            "_________________________________________________________________\n",
            "dense_1 (Dense)              (None, 128)               131200    \n",
            "_________________________________________________________________\n",
            "dense_2 (Dense)              (None, 128)               16512     \n",
            "_________________________________________________________________\n",
            "dense_3 (Dense)              (None, 1)                 129       \n",
            "=================================================================\n",
            "Total params: 1,293,249\n",
            "Trainable params: 1,293,249\n",
            "Non-trainable params: 0\n",
            "_________________________________________________________________\n"
          ],
          "name": "stdout"
        }
      ]
    },
    {
      "cell_type": "code",
      "metadata": {
        "id": "r6UUPTBJGaGy",
        "colab_type": "code",
        "colab": {
          "base_uri": "https://localhost:8080/",
          "height": 188
        },
        "outputId": "4300957d-6c57-4a4a-d6a6-95368837830d"
      },
      "source": [
        "from keras.optimizers import RMSprop\n",
        "model.compile(loss='binary_crossentropy',optimizer=RMSprop(lr=1e-4),metrics=['accuracy'])\n",
        "\n",
        "train_datagen = ImageDataGenerator(rescale=1./255,rotation_range=40,width_shift_range=0.2,height_shift_range=0.2,shear_range=0.2,zoom_range=0.2,horizontal_flip=True,fill_mode='nearest')\n",
        "train_generator = train_datagen.flow_from_directory(train_dir,target_size=(150,150),batch_size=20,class_mode='binary')\n",
        "\n",
        "validation_datagen = ImageDataGenerator(rescale=1./255)\n",
        "validation_generator = validation_datagen.flow_from_directory(validation_dir,target_size=(150,150),batch_size=20,class_mode='binary')"
      ],
      "execution_count": 6,
      "outputs": [
        {
          "output_type": "stream",
          "text": [
            "WARNING:tensorflow:From /usr/local/lib/python3.6/dist-packages/keras/optimizers.py:793: The name tf.train.Optimizer is deprecated. Please use tf.compat.v1.train.Optimizer instead.\n",
            "\n",
            "WARNING:tensorflow:From /usr/local/lib/python3.6/dist-packages/keras/backend/tensorflow_backend.py:3657: The name tf.log is deprecated. Please use tf.math.log instead.\n",
            "\n",
            "WARNING:tensorflow:From /tensorflow-1.15.2/python3.6/tensorflow_core/python/ops/nn_impl.py:183: where (from tensorflow.python.ops.array_ops) is deprecated and will be removed in a future version.\n",
            "Instructions for updating:\n",
            "Use tf.where in 2.0, which has the same broadcast rule as np.where\n",
            "Found 2000 images belonging to 2 classes.\n",
            "Found 1000 images belonging to 2 classes.\n"
          ],
          "name": "stdout"
        }
      ]
    },
    {
      "cell_type": "code",
      "metadata": {
        "id": "yV7yREcyfFVT",
        "colab_type": "code",
        "colab": {}
      },
      "source": [
        "class myCallback(tf.keras.callbacks.Callback):\n",
        "  def on_epoch_end(self,epoch,logs={}):\n",
        "    if logs.get('val_acc')>=0.90:\n",
        "      print(\"\\nReached 90% validation accuracy so cancelling training!\")\n",
        "      self.model.stop_training=True\n",
        "\n",
        "callbacks=myCallback()"
      ],
      "execution_count": 0,
      "outputs": []
    },
    {
      "cell_type": "code",
      "metadata": {
        "id": "460uRYPzHtjc",
        "colab_type": "code",
        "colab": {
          "base_uri": "https://localhost:8080/",
          "height": 1000
        },
        "outputId": "9227ffc2-c2cc-4939-a949-5e3d6e7c4b27"
      },
      "source": [
        "history = model.fit_generator(train_generator,steps_per_epoch=100,epochs=120,validation_data=validation_generator,validation_steps=100,callbacks=[callbacks])"
      ],
      "execution_count": 8,
      "outputs": [
        {
          "output_type": "stream",
          "text": [
            "WARNING:tensorflow:From /usr/local/lib/python3.6/dist-packages/keras/backend/tensorflow_backend.py:1033: The name tf.assign_add is deprecated. Please use tf.compat.v1.assign_add instead.\n",
            "\n",
            "WARNING:tensorflow:From /usr/local/lib/python3.6/dist-packages/keras/backend/tensorflow_backend.py:1020: The name tf.assign is deprecated. Please use tf.compat.v1.assign instead.\n",
            "\n",
            "WARNING:tensorflow:From /usr/local/lib/python3.6/dist-packages/keras/backend/tensorflow_backend.py:3005: The name tf.Session is deprecated. Please use tf.compat.v1.Session instead.\n",
            "\n",
            "Epoch 1/120\n",
            "WARNING:tensorflow:From /usr/local/lib/python3.6/dist-packages/keras/backend/tensorflow_backend.py:190: The name tf.get_default_session is deprecated. Please use tf.compat.v1.get_default_session instead.\n",
            "\n",
            "WARNING:tensorflow:From /usr/local/lib/python3.6/dist-packages/keras/backend/tensorflow_backend.py:197: The name tf.ConfigProto is deprecated. Please use tf.compat.v1.ConfigProto instead.\n",
            "\n",
            "WARNING:tensorflow:From /usr/local/lib/python3.6/dist-packages/keras/backend/tensorflow_backend.py:207: The name tf.global_variables is deprecated. Please use tf.compat.v1.global_variables instead.\n",
            "\n",
            "WARNING:tensorflow:From /usr/local/lib/python3.6/dist-packages/keras/backend/tensorflow_backend.py:216: The name tf.is_variable_initialized is deprecated. Please use tf.compat.v1.is_variable_initialized instead.\n",
            "\n",
            "WARNING:tensorflow:From /usr/local/lib/python3.6/dist-packages/keras/backend/tensorflow_backend.py:223: The name tf.variables_initializer is deprecated. Please use tf.compat.v1.variables_initializer instead.\n",
            "\n",
            "100/100 [==============================] - 25s 250ms/step - loss: 0.6940 - acc: 0.5065 - val_loss: 0.6920 - val_acc: 0.5150\n",
            "Epoch 2/120\n",
            "100/100 [==============================] - 21s 211ms/step - loss: 0.6923 - acc: 0.5125 - val_loss: 0.6899 - val_acc: 0.5000\n",
            "Epoch 3/120\n",
            "100/100 [==============================] - 21s 211ms/step - loss: 0.6855 - acc: 0.5435 - val_loss: 0.6668 - val_acc: 0.5860\n",
            "Epoch 4/120\n",
            "100/100 [==============================] - 21s 213ms/step - loss: 0.6760 - acc: 0.5750 - val_loss: 0.6612 - val_acc: 0.6220\n",
            "Epoch 5/120\n",
            "100/100 [==============================] - 21s 212ms/step - loss: 0.6651 - acc: 0.6095 - val_loss: 0.6580 - val_acc: 0.6080\n",
            "Epoch 6/120\n",
            "100/100 [==============================] - 21s 212ms/step - loss: 0.6581 - acc: 0.6115 - val_loss: 0.6355 - val_acc: 0.6560\n",
            "Epoch 7/120\n",
            "100/100 [==============================] - 21s 212ms/step - loss: 0.6522 - acc: 0.6290 - val_loss: 0.6386 - val_acc: 0.6260\n",
            "Epoch 8/120\n",
            "100/100 [==============================] - 21s 213ms/step - loss: 0.6422 - acc: 0.6400 - val_loss: 0.6135 - val_acc: 0.6650\n",
            "Epoch 9/120\n",
            "100/100 [==============================] - 21s 212ms/step - loss: 0.6342 - acc: 0.6400 - val_loss: 0.6250 - val_acc: 0.6500\n",
            "Epoch 10/120\n",
            "100/100 [==============================] - 21s 212ms/step - loss: 0.6215 - acc: 0.6570 - val_loss: 0.5956 - val_acc: 0.6950\n",
            "Epoch 11/120\n",
            "100/100 [==============================] - 21s 213ms/step - loss: 0.6047 - acc: 0.6735 - val_loss: 0.5833 - val_acc: 0.6880\n",
            "Epoch 12/120\n",
            "100/100 [==============================] - 21s 213ms/step - loss: 0.6068 - acc: 0.6630 - val_loss: 0.5625 - val_acc: 0.7190\n",
            "Epoch 13/120\n",
            "100/100 [==============================] - 21s 214ms/step - loss: 0.5839 - acc: 0.6940 - val_loss: 0.5517 - val_acc: 0.7350\n",
            "Epoch 14/120\n",
            "100/100 [==============================] - 21s 214ms/step - loss: 0.5798 - acc: 0.7045 - val_loss: 0.5855 - val_acc: 0.6800\n",
            "Epoch 15/120\n",
            "100/100 [==============================] - 22s 215ms/step - loss: 0.5795 - acc: 0.6990 - val_loss: 0.5310 - val_acc: 0.7270\n",
            "Epoch 16/120\n",
            "100/100 [==============================] - 21s 212ms/step - loss: 0.5549 - acc: 0.7275 - val_loss: 0.5351 - val_acc: 0.7260\n",
            "Epoch 17/120\n",
            "100/100 [==============================] - 21s 211ms/step - loss: 0.5616 - acc: 0.7145 - val_loss: 0.5382 - val_acc: 0.7360\n",
            "Epoch 18/120\n",
            "100/100 [==============================] - 21s 210ms/step - loss: 0.5571 - acc: 0.7220 - val_loss: 0.5282 - val_acc: 0.7300\n",
            "Epoch 19/120\n",
            "100/100 [==============================] - 21s 215ms/step - loss: 0.5568 - acc: 0.7270 - val_loss: 0.5207 - val_acc: 0.7430\n",
            "Epoch 20/120\n",
            "100/100 [==============================] - 21s 215ms/step - loss: 0.5412 - acc: 0.7340 - val_loss: 0.5077 - val_acc: 0.7550\n",
            "Epoch 21/120\n",
            "100/100 [==============================] - 21s 214ms/step - loss: 0.5374 - acc: 0.7310 - val_loss: 0.4976 - val_acc: 0.7530\n",
            "Epoch 22/120\n",
            "100/100 [==============================] - 22s 218ms/step - loss: 0.5310 - acc: 0.7390 - val_loss: 0.4964 - val_acc: 0.7640\n",
            "Epoch 23/120\n",
            "100/100 [==============================] - 22s 217ms/step - loss: 0.5348 - acc: 0.7305 - val_loss: 0.5156 - val_acc: 0.7440\n",
            "Epoch 24/120\n",
            "100/100 [==============================] - 21s 214ms/step - loss: 0.5113 - acc: 0.7400 - val_loss: 0.5184 - val_acc: 0.7370\n",
            "Epoch 25/120\n",
            "100/100 [==============================] - 21s 212ms/step - loss: 0.5280 - acc: 0.7360 - val_loss: 0.4794 - val_acc: 0.7670\n",
            "Epoch 26/120\n",
            "100/100 [==============================] - 21s 210ms/step - loss: 0.5183 - acc: 0.7415 - val_loss: 0.4822 - val_acc: 0.7510\n",
            "Epoch 27/120\n",
            "100/100 [==============================] - 21s 212ms/step - loss: 0.5048 - acc: 0.7555 - val_loss: 0.4842 - val_acc: 0.7620\n",
            "Epoch 28/120\n",
            "100/100 [==============================] - 21s 211ms/step - loss: 0.4979 - acc: 0.7595 - val_loss: 0.4715 - val_acc: 0.7720\n",
            "Epoch 29/120\n",
            "100/100 [==============================] - 21s 211ms/step - loss: 0.4931 - acc: 0.7600 - val_loss: 0.4858 - val_acc: 0.7620\n",
            "Epoch 30/120\n",
            "100/100 [==============================] - 21s 211ms/step - loss: 0.4994 - acc: 0.7520 - val_loss: 0.5150 - val_acc: 0.7510\n",
            "Epoch 31/120\n",
            "100/100 [==============================] - 21s 214ms/step - loss: 0.4952 - acc: 0.7520 - val_loss: 0.4660 - val_acc: 0.7620\n",
            "Epoch 32/120\n",
            "100/100 [==============================] - 22s 215ms/step - loss: 0.4757 - acc: 0.7630 - val_loss: 0.4608 - val_acc: 0.7770\n",
            "Epoch 33/120\n",
            "100/100 [==============================] - 21s 215ms/step - loss: 0.4720 - acc: 0.7750 - val_loss: 0.4676 - val_acc: 0.7760\n",
            "Epoch 34/120\n",
            "100/100 [==============================] - 22s 218ms/step - loss: 0.4728 - acc: 0.7860 - val_loss: 0.5202 - val_acc: 0.7430\n",
            "Epoch 35/120\n",
            "100/100 [==============================] - 22s 216ms/step - loss: 0.4740 - acc: 0.7785 - val_loss: 0.4698 - val_acc: 0.7770\n",
            "Epoch 36/120\n",
            "100/100 [==============================] - 22s 215ms/step - loss: 0.4765 - acc: 0.7720 - val_loss: 0.4586 - val_acc: 0.7910\n",
            "Epoch 37/120\n",
            "100/100 [==============================] - 22s 215ms/step - loss: 0.4586 - acc: 0.7925 - val_loss: 0.4598 - val_acc: 0.7720\n",
            "Epoch 38/120\n",
            "100/100 [==============================] - 21s 215ms/step - loss: 0.4738 - acc: 0.7735 - val_loss: 0.4485 - val_acc: 0.7850\n",
            "Epoch 39/120\n",
            "100/100 [==============================] - 22s 216ms/step - loss: 0.4604 - acc: 0.7755 - val_loss: 0.4750 - val_acc: 0.7650\n",
            "Epoch 40/120\n",
            "100/100 [==============================] - 21s 215ms/step - loss: 0.4588 - acc: 0.7805 - val_loss: 0.4338 - val_acc: 0.7920\n",
            "Epoch 41/120\n",
            "100/100 [==============================] - 22s 216ms/step - loss: 0.4404 - acc: 0.7975 - val_loss: 0.4454 - val_acc: 0.7850\n",
            "Epoch 42/120\n",
            "100/100 [==============================] - 22s 218ms/step - loss: 0.4427 - acc: 0.7895 - val_loss: 0.5071 - val_acc: 0.7590\n",
            "Epoch 43/120\n",
            "100/100 [==============================] - 22s 219ms/step - loss: 0.4508 - acc: 0.7870 - val_loss: 0.4552 - val_acc: 0.7920\n",
            "Epoch 44/120\n",
            "100/100 [==============================] - 21s 214ms/step - loss: 0.4510 - acc: 0.7845 - val_loss: 0.4184 - val_acc: 0.8050\n",
            "Epoch 45/120\n",
            "100/100 [==============================] - 22s 218ms/step - loss: 0.4470 - acc: 0.7840 - val_loss: 0.4429 - val_acc: 0.7890\n",
            "Epoch 46/120\n",
            "100/100 [==============================] - 22s 221ms/step - loss: 0.4319 - acc: 0.7920 - val_loss: 0.4323 - val_acc: 0.8010\n",
            "Epoch 47/120\n",
            "100/100 [==============================] - 22s 221ms/step - loss: 0.4305 - acc: 0.7935 - val_loss: 0.4609 - val_acc: 0.7630\n",
            "Epoch 48/120\n",
            "100/100 [==============================] - 22s 222ms/step - loss: 0.4200 - acc: 0.8020 - val_loss: 0.4230 - val_acc: 0.7950\n",
            "Epoch 49/120\n",
            "100/100 [==============================] - 22s 216ms/step - loss: 0.4161 - acc: 0.8120 - val_loss: 0.5573 - val_acc: 0.7420\n",
            "Epoch 50/120\n",
            "100/100 [==============================] - 22s 216ms/step - loss: 0.4158 - acc: 0.8075 - val_loss: 0.4181 - val_acc: 0.8020\n",
            "Epoch 51/120\n",
            "100/100 [==============================] - 22s 216ms/step - loss: 0.4271 - acc: 0.7995 - val_loss: 0.4582 - val_acc: 0.7810\n",
            "Epoch 52/120\n",
            "100/100 [==============================] - 22s 217ms/step - loss: 0.4079 - acc: 0.8005 - val_loss: 0.4339 - val_acc: 0.8020\n",
            "Epoch 53/120\n",
            "100/100 [==============================] - 22s 217ms/step - loss: 0.4007 - acc: 0.8175 - val_loss: 0.4231 - val_acc: 0.8010\n",
            "Epoch 54/120\n",
            "100/100 [==============================] - 22s 217ms/step - loss: 0.4054 - acc: 0.8150 - val_loss: 0.4068 - val_acc: 0.8120\n",
            "Epoch 55/120\n",
            "100/100 [==============================] - 22s 216ms/step - loss: 0.4072 - acc: 0.8120 - val_loss: 0.4090 - val_acc: 0.8050\n",
            "Epoch 56/120\n",
            "100/100 [==============================] - 22s 217ms/step - loss: 0.3899 - acc: 0.8225 - val_loss: 0.4482 - val_acc: 0.7790\n",
            "Epoch 57/120\n",
            "100/100 [==============================] - 22s 217ms/step - loss: 0.3868 - acc: 0.8265 - val_loss: 0.4093 - val_acc: 0.8070\n",
            "Epoch 58/120\n",
            "100/100 [==============================] - 22s 216ms/step - loss: 0.3980 - acc: 0.8280 - val_loss: 0.4423 - val_acc: 0.8110\n",
            "Epoch 59/120\n",
            "100/100 [==============================] - 22s 217ms/step - loss: 0.3779 - acc: 0.8330 - val_loss: 0.4327 - val_acc: 0.7910\n",
            "Epoch 60/120\n",
            "100/100 [==============================] - 22s 215ms/step - loss: 0.3956 - acc: 0.8245 - val_loss: 0.4010 - val_acc: 0.8100\n",
            "Epoch 61/120\n",
            "100/100 [==============================] - 22s 216ms/step - loss: 0.3829 - acc: 0.8255 - val_loss: 0.4154 - val_acc: 0.8070\n",
            "Epoch 62/120\n",
            "100/100 [==============================] - 22s 217ms/step - loss: 0.3889 - acc: 0.8330 - val_loss: 0.4777 - val_acc: 0.7800\n",
            "Epoch 63/120\n",
            "100/100 [==============================] - 21s 214ms/step - loss: 0.3753 - acc: 0.8305 - val_loss: 0.5652 - val_acc: 0.7540\n",
            "Epoch 64/120\n",
            "100/100 [==============================] - 21s 214ms/step - loss: 0.3851 - acc: 0.8260 - val_loss: 0.3716 - val_acc: 0.8270\n",
            "Epoch 65/120\n",
            "100/100 [==============================] - 21s 214ms/step - loss: 0.3628 - acc: 0.8410 - val_loss: 0.3923 - val_acc: 0.8210\n",
            "Epoch 66/120\n",
            "100/100 [==============================] - 21s 214ms/step - loss: 0.3420 - acc: 0.8490 - val_loss: 0.4683 - val_acc: 0.7980\n",
            "Epoch 67/120\n",
            "100/100 [==============================] - 21s 215ms/step - loss: 0.3579 - acc: 0.8495 - val_loss: 0.3726 - val_acc: 0.8300\n",
            "Epoch 68/120\n",
            "100/100 [==============================] - 21s 215ms/step - loss: 0.3687 - acc: 0.8400 - val_loss: 0.4181 - val_acc: 0.7990\n",
            "Epoch 69/120\n",
            "100/100 [==============================] - 21s 214ms/step - loss: 0.3711 - acc: 0.8330 - val_loss: 0.3767 - val_acc: 0.8390\n",
            "Epoch 70/120\n",
            "100/100 [==============================] - 21s 214ms/step - loss: 0.3505 - acc: 0.8465 - val_loss: 0.3843 - val_acc: 0.8230\n",
            "Epoch 71/120\n",
            "100/100 [==============================] - 22s 218ms/step - loss: 0.3449 - acc: 0.8415 - val_loss: 0.4236 - val_acc: 0.7910\n",
            "Epoch 72/120\n",
            "100/100 [==============================] - 22s 217ms/step - loss: 0.3588 - acc: 0.8435 - val_loss: 0.4097 - val_acc: 0.8160\n",
            "Epoch 73/120\n",
            "100/100 [==============================] - 21s 214ms/step - loss: 0.3350 - acc: 0.8560 - val_loss: 0.3968 - val_acc: 0.8100\n",
            "Epoch 74/120\n",
            "100/100 [==============================] - 21s 214ms/step - loss: 0.3416 - acc: 0.8530 - val_loss: 0.3747 - val_acc: 0.8240\n",
            "Epoch 75/120\n",
            "100/100 [==============================] - 21s 213ms/step - loss: 0.3262 - acc: 0.8535 - val_loss: 0.4455 - val_acc: 0.8010\n",
            "Epoch 76/120\n",
            "100/100 [==============================] - 21s 213ms/step - loss: 0.3306 - acc: 0.8610 - val_loss: 0.4554 - val_acc: 0.7880\n",
            "Epoch 77/120\n",
            "100/100 [==============================] - 21s 213ms/step - loss: 0.3360 - acc: 0.8520 - val_loss: 0.4299 - val_acc: 0.7980\n",
            "Epoch 78/120\n",
            "100/100 [==============================] - 21s 213ms/step - loss: 0.3325 - acc: 0.8565 - val_loss: 0.3796 - val_acc: 0.8200\n",
            "Epoch 79/120\n",
            "100/100 [==============================] - 21s 213ms/step - loss: 0.3210 - acc: 0.8540 - val_loss: 0.3787 - val_acc: 0.8370\n",
            "Epoch 80/120\n",
            "100/100 [==============================] - 21s 213ms/step - loss: 0.3094 - acc: 0.8670 - val_loss: 0.4236 - val_acc: 0.8130\n",
            "Epoch 81/120\n",
            "100/100 [==============================] - 21s 212ms/step - loss: 0.3119 - acc: 0.8660 - val_loss: 0.4018 - val_acc: 0.8050\n",
            "Epoch 82/120\n",
            "100/100 [==============================] - 21s 212ms/step - loss: 0.3232 - acc: 0.8685 - val_loss: 0.3892 - val_acc: 0.8210\n",
            "Epoch 83/120\n",
            "100/100 [==============================] - 21s 212ms/step - loss: 0.3178 - acc: 0.8675 - val_loss: 0.4675 - val_acc: 0.7930\n",
            "Epoch 84/120\n",
            "100/100 [==============================] - 21s 214ms/step - loss: 0.3075 - acc: 0.8695 - val_loss: 0.3753 - val_acc: 0.8420\n",
            "Epoch 85/120\n",
            "100/100 [==============================] - 21s 211ms/step - loss: 0.3053 - acc: 0.8735 - val_loss: 0.3897 - val_acc: 0.8210\n",
            "Epoch 86/120\n",
            "100/100 [==============================] - 21s 209ms/step - loss: 0.2946 - acc: 0.8765 - val_loss: 0.4236 - val_acc: 0.8150\n",
            "Epoch 87/120\n",
            "100/100 [==============================] - 21s 210ms/step - loss: 0.2954 - acc: 0.8735 - val_loss: 0.5853 - val_acc: 0.7750\n",
            "Epoch 88/120\n",
            "100/100 [==============================] - 21s 211ms/step - loss: 0.2940 - acc: 0.8715 - val_loss: 0.3997 - val_acc: 0.8380\n",
            "Epoch 89/120\n",
            "100/100 [==============================] - 21s 210ms/step - loss: 0.2945 - acc: 0.8630 - val_loss: 0.4308 - val_acc: 0.8070\n",
            "Epoch 90/120\n",
            "100/100 [==============================] - 21s 210ms/step - loss: 0.2894 - acc: 0.8835 - val_loss: 0.4088 - val_acc: 0.8380\n",
            "Epoch 91/120\n",
            "100/100 [==============================] - 21s 211ms/step - loss: 0.2824 - acc: 0.8845 - val_loss: 0.4046 - val_acc: 0.8370\n",
            "Epoch 92/120\n",
            "100/100 [==============================] - 23s 229ms/step - loss: 0.2875 - acc: 0.8780 - val_loss: 0.4378 - val_acc: 0.8150\n",
            "Epoch 93/120\n",
            "100/100 [==============================] - 21s 212ms/step - loss: 0.2900 - acc: 0.8705 - val_loss: 0.4351 - val_acc: 0.8330\n",
            "Epoch 94/120\n",
            "100/100 [==============================] - 21s 213ms/step - loss: 0.2802 - acc: 0.8750 - val_loss: 0.3863 - val_acc: 0.8280\n",
            "Epoch 95/120\n",
            "100/100 [==============================] - 21s 213ms/step - loss: 0.2816 - acc: 0.8850 - val_loss: 0.3730 - val_acc: 0.8360\n",
            "Epoch 96/120\n",
            "100/100 [==============================] - 21s 213ms/step - loss: 0.2796 - acc: 0.8880 - val_loss: 0.4695 - val_acc: 0.8170\n",
            "Epoch 97/120\n",
            "100/100 [==============================] - 21s 214ms/step - loss: 0.2803 - acc: 0.8855 - val_loss: 0.4249 - val_acc: 0.8380\n",
            "Epoch 98/120\n",
            "100/100 [==============================] - 21s 212ms/step - loss: 0.2711 - acc: 0.8815 - val_loss: 0.3776 - val_acc: 0.8400\n",
            "Epoch 99/120\n",
            "100/100 [==============================] - 21s 213ms/step - loss: 0.2616 - acc: 0.8850 - val_loss: 0.4067 - val_acc: 0.8360\n",
            "Epoch 100/120\n",
            "100/100 [==============================] - 21s 212ms/step - loss: 0.2628 - acc: 0.8830 - val_loss: 0.4780 - val_acc: 0.8100\n",
            "Epoch 101/120\n",
            "100/100 [==============================] - 21s 212ms/step - loss: 0.2759 - acc: 0.8775 - val_loss: 0.4197 - val_acc: 0.8240\n",
            "Epoch 102/120\n",
            "100/100 [==============================] - 21s 213ms/step - loss: 0.2598 - acc: 0.8950 - val_loss: 0.4155 - val_acc: 0.8170\n",
            "Epoch 103/120\n",
            "100/100 [==============================] - 22s 217ms/step - loss: 0.2742 - acc: 0.8820 - val_loss: 0.4490 - val_acc: 0.8320\n",
            "Epoch 104/120\n",
            "100/100 [==============================] - 22s 216ms/step - loss: 0.2603 - acc: 0.8850 - val_loss: 0.4484 - val_acc: 0.8260\n",
            "Epoch 105/120\n",
            "100/100 [==============================] - 22s 218ms/step - loss: 0.2348 - acc: 0.9100 - val_loss: 0.4250 - val_acc: 0.8150\n",
            "Epoch 106/120\n",
            "100/100 [==============================] - 21s 214ms/step - loss: 0.2556 - acc: 0.8945 - val_loss: 0.4173 - val_acc: 0.8190\n",
            "Epoch 107/120\n",
            "100/100 [==============================] - 21s 213ms/step - loss: 0.2604 - acc: 0.8830 - val_loss: 0.4119 - val_acc: 0.8240\n",
            "Epoch 108/120\n",
            "100/100 [==============================] - 21s 214ms/step - loss: 0.2483 - acc: 0.8925 - val_loss: 0.4597 - val_acc: 0.8170\n",
            "Epoch 109/120\n",
            "100/100 [==============================] - 21s 214ms/step - loss: 0.2324 - acc: 0.9025 - val_loss: 0.4686 - val_acc: 0.8200\n",
            "Epoch 110/120\n",
            "100/100 [==============================] - 21s 214ms/step - loss: 0.2664 - acc: 0.8845 - val_loss: 0.4661 - val_acc: 0.8280\n",
            "Epoch 111/120\n",
            "100/100 [==============================] - 21s 213ms/step - loss: 0.2466 - acc: 0.8975 - val_loss: 0.4696 - val_acc: 0.8130\n",
            "Epoch 112/120\n",
            "100/100 [==============================] - 21s 214ms/step - loss: 0.2511 - acc: 0.8935 - val_loss: 0.4355 - val_acc: 0.8160\n",
            "Epoch 113/120\n",
            "100/100 [==============================] - 21s 214ms/step - loss: 0.2478 - acc: 0.9025 - val_loss: 0.5615 - val_acc: 0.8150\n",
            "Epoch 114/120\n",
            "100/100 [==============================] - 22s 217ms/step - loss: 0.2528 - acc: 0.8970 - val_loss: 0.4053 - val_acc: 0.8290\n",
            "Epoch 115/120\n",
            "100/100 [==============================] - 22s 220ms/step - loss: 0.2384 - acc: 0.8970 - val_loss: 0.3783 - val_acc: 0.8410\n",
            "Epoch 116/120\n",
            "100/100 [==============================] - 22s 220ms/step - loss: 0.2311 - acc: 0.9060 - val_loss: 0.4107 - val_acc: 0.8370\n",
            "Epoch 117/120\n",
            "100/100 [==============================] - 22s 217ms/step - loss: 0.2397 - acc: 0.9035 - val_loss: 0.4430 - val_acc: 0.8400\n",
            "Epoch 118/120\n",
            "100/100 [==============================] - 22s 216ms/step - loss: 0.2272 - acc: 0.9045 - val_loss: 0.4040 - val_acc: 0.8390\n",
            "Epoch 119/120\n",
            "100/100 [==============================] - 22s 216ms/step - loss: 0.2189 - acc: 0.9045 - val_loss: 0.4869 - val_acc: 0.8300\n",
            "Epoch 120/120\n",
            "100/100 [==============================] - 21s 215ms/step - loss: 0.2349 - acc: 0.9015 - val_loss: 0.4570 - val_acc: 0.8360\n"
          ],
          "name": "stdout"
        }
      ]
    },
    {
      "cell_type": "code",
      "metadata": {
        "id": "WweQiGpmI1xG",
        "colab_type": "code",
        "colab": {}
      },
      "source": [
        "import matplotlib.pyplot as plt\n",
        "acc = history.history['acc']\n",
        "val_acc = history.history['val_acc']\n",
        "loss = history.history['loss']\n",
        "val_loss = history.history['val_loss']"
      ],
      "execution_count": 0,
      "outputs": []
    },
    {
      "cell_type": "code",
      "metadata": {
        "id": "uNFdNpwtODmh",
        "colab_type": "code",
        "colab": {
          "base_uri": "https://localhost:8080/",
          "height": 545
        },
        "outputId": "0cfd3ec2-b8e1-4593-fa7f-868233de2b13"
      },
      "source": [
        "epochs = range(len(acc))\n",
        "\n",
        "plt.plot(epochs, acc, 'bo', label='Training accuracy')\n",
        "plt.plot(epochs, val_acc, 'b', label='Validation accuracy')\n",
        "plt.title('Training and validation accuracy')\n",
        "plt.legend()\n",
        "plt.figure()\n",
        "\n",
        "plt.plot(epochs, loss, 'bo', label='Training Loss')\n",
        "plt.plot(epochs, val_loss, 'b', label='Validation Loss')\n",
        "plt.title('Training and validation loss')\n",
        "plt.legend()\n",
        "\n",
        "plt.show()"
      ],
      "execution_count": 10,
      "outputs": [
        {
          "output_type": "display_data",
          "data": {
            "image/png": "[encoded data removed]",
            "text/plain": [
              "<Figure size 432x288 with 1 Axes>"
            ]
          },
          "metadata": {
            "tags": []
          }
        },
        {
          "output_type": "display_data",
          "data": {
            "image/png": "[encoded data removed]",
            "text/plain": [
              "<Figure size 432x288 with 1 Axes>"
            ]
          },
          "metadata": {
            "tags": []
          }
        }
      ]
    },
    {
      "cell_type": "code",
      "metadata": {
        "id": "QD6yzd05OJ0C",
        "colab_type": "code",
        "colab": {}
      },
      "source": [
        "model.save('mymodel.h5')"
      ],
      "execution_count": 0,
      "outputs": []
    },
    {
      "cell_type": "code",
      "metadata": {
        "id": "QuhB4sRFWmi-",
        "colab_type": "code",
        "colab": {}
      },
      "source": [
        "from tensorflow import keras"
      ],
      "execution_count": 0,
      "outputs": []
    },
    {
      "cell_type": "code",
      "metadata": {
        "id": "IvXPuw3eYcKu",
        "colab_type": "code",
        "colab": {
          "base_uri": "https://localhost:8080/",
          "height": 87
        },
        "outputId": "5448aa19-afab-46cf-d6b8-7f950c1f381f"
      },
      "source": [
        "model_new = keras.models.load_model('mymodel.h5')"
      ],
      "execution_count": 13,
      "outputs": [
        {
          "output_type": "stream",
          "text": [
            "WARNING:tensorflow:From /tensorflow-1.15.2/python3.6/tensorflow_core/python/ops/resource_variable_ops.py:1630: calling BaseResourceVariable.__init__ (from tensorflow.python.ops.resource_variable_ops) with constraint is deprecated and will be removed in a future version.\n",
            "Instructions for updating:\n",
            "If using Keras pass *_constraint arguments to layers.\n"
          ],
          "name": "stdout"
        }
      ]
    },
    {
      "cell_type": "code",
      "metadata": {
        "id": "V-DHsdEsdXXs",
        "colab_type": "code",
        "colab": {}
      },
      "source": [
        ""
      ],
      "execution_count": 0,
      "outputs": []
    }
  ]
}